{
  "cells": [
    {
      "cell_type": "markdown",
      "source": [
        "# **Imports**"
      ],
      "metadata": {
        "id": "4ElFaj0BivCn"
      },
      "id": "4ElFaj0BivCn"
    },
    {
      "cell_type": "code",
      "source": [
        "import torchvision as tv\n",
        "from torch.utils.data import DataLoader\n",
        "import torch.utils.data\n",
        "import random\n",
        "import numpy as np\n",
        "import torchvision.transforms as transforms\n",
        "from numpy import linalg as la"
      ],
      "metadata": {
        "id": "HY4M60Bxh-K6"
      },
      "id": "HY4M60Bxh-K6",
      "execution_count": null,
      "outputs": []
    },
    {
      "cell_type": "markdown",
      "source": [
        "# **Relu Layer**"
      ],
      "metadata": {
        "id": "mJY40ZiWi3gd"
      },
      "id": "mJY40ZiWi3gd"
    },
    {
      "cell_type": "code",
      "source": [
        "class Relu_t :\n",
        "#Relu Layer class\n",
        "    def forward(self , Layer_Input): \n",
        "        #Forward Function of Relu Z = Rel(Z)\n",
        "        self.Layer_Input = Layer_Input\n",
        "        self.Layer_Output = np.maximum(Layer_Input, 0)\n",
        "        return self.Layer_Output\n",
        "    \n",
        "    def backward(self , Layer_output):\n",
        "        #Backward Function of Relu\n",
        "        self.Layer_Input[self.Layer_Input < 0 ] = 0\n",
        "        self.Layer_Input[self.Layer_Input >= 0 ] = 1\n",
        "#         print(self.Layer_Input.shape)\n",
        "#         print(Layer_output.shape)\n",
        "        self.dl_dz = (self.Layer_Input*Layer_output)\n",
        "        return self.dl_dz\n",
        "    def zero_grad(self):\n",
        "        #Zero Function of Relu\n",
        "        self.dl_dz = np.zeros_like(self.dl_dz)"
      ],
      "metadata": {
        "id": "KwVnz8o8iBdV"
      },
      "id": "KwVnz8o8iBdV",
      "execution_count": null,
      "outputs": []
    },
    {
      "cell_type": "markdown",
      "source": [
        "# **SoftMaxEntropy Layer**"
      ],
      "metadata": {
        "id": "Qd4UT4ZNjC1K"
      },
      "id": "Qd4UT4ZNjC1K"
    },
    {
      "cell_type": "code",
      "source": [
        "class SoftmaxCrossEntropy_t:\n",
        "#Softmax Layer class\n",
        "    def forward(self ,Layer_Input,Y_Targets):\n",
        "        #Forward Function of SoftMax+CrossEntropy\n",
        "        #Softmax Calculation Y = Soft_Max(Z)\n",
        "        Y_Pred = (np.exp(Layer_Input)/np.sum(np.exp(Layer_Input),axis=1).reshape(Y_Targets.shape[0],1))\n",
        "        self.Y_Pred = Y_Pred\n",
        "        self.Targets = Y_Targets\n",
        "        #CrossEntropy Calculation L = cross_entropy(Y)\n",
        "        crossentropy = (-1* np.log(Y_Pred)*Y_Targets)\n",
        "        #Average Loss Calculation\n",
        "        averageLoss = (np.sum(crossentropy)/Y_Targets.shape[0])\n",
        "        return Y_Pred,averageLoss,crossentropy,\n",
        "        \n",
        "    def backward(self , Layer_output):\n",
        "        #Backward Function of SoftMax+CrossEntropy\n",
        "        self.dl_dz = self.Y_Pred - self.Targets\n",
        "        return self.dl_dz\n",
        "    \n",
        "    def zero_grad(self):\n",
        "        #Zero Function of Loss w.r.t to Activation\n",
        "        self.dl_dz = np.zeros_like(self.dl_dz)"
      ],
      "metadata": {
        "id": "ltFiVyPoiFaB"
      },
      "id": "ltFiVyPoiFaB",
      "execution_count": null,
      "outputs": []
    },
    {
      "cell_type": "markdown",
      "source": [
        "# **Linear Layer**"
      ],
      "metadata": {
        "id": "b2BsP-KMjHQZ"
      },
      "id": "b2BsP-KMjHQZ"
    },
    {
      "cell_type": "code",
      "source": [
        "class LinearLayer_t :\n",
        "#Linear Layer class    \n",
        "    def __init__ (self, num_features, num_classes):\n",
        "        #Intitialization of Linear Layer\n",
        "        mean = 0\n",
        "        stddev = 0.1\n",
        "        #Intitialization of Random weights and Bias in Gaussian space\n",
        "        weights = np.random.normal(mean, stddev, size = (num_features,num_classes))\n",
        "        bias = np.random.normal(mean, stddev, size = (num_classes))\n",
        "        #Normalize weights and Bias making L2 norm of w,b = 1\n",
        "        _wl2_norm = 1/((la.norm(weights)))\n",
        "        _bl2_norm = 1/((la.norm(bias)))\n",
        "        self.w = weights * _wl2_norm\n",
        "        self.b = bias * _bl2_norm\n",
        "\n",
        "    def forward(self , Layer_Input): \n",
        "        #Forward Function of Linear Layer Z = WX + B\n",
        "        self.Layer_Input = Layer_Input\n",
        "        self.Layer_Output = (np.dot(Layer_Input,self.w)) + self.b\n",
        "        return self.Layer_Output\n",
        "\n",
        "    def backward(self , Layer_output):\n",
        "        #Backward Function of Linear layer\n",
        "        #dl_dw = dl_dz * dz_dw = dl_dz * x\n",
        "        #dl_db = dl_dz * dz_db = sum(dl_dz) * 1/m\n",
        "        self.dl_dw = (1/self.Layer_Input.shape[0])*np.dot(self.Layer_Input.T,Layer_output)\n",
        "        self.dl_db = (1/self.Layer_Input.shape[0])* np.sum(Layer_output, axis=0,keepdims = True)\n",
        "        return self.dl_dw,self.dl_db\n",
        "    def zero_grad(self):\n",
        "        #Zerograd Function of Linear layer\n",
        "        self.dl_db = np.zeros_like(self.dl_db)\n",
        "        self.dl_dw = np.zeros_like(self.dl_dw)"
      ],
      "metadata": {
        "id": "_Lzp1bHjiLyZ"
      },
      "id": "_Lzp1bHjiLyZ",
      "execution_count": null,
      "outputs": []
    },
    {
      "cell_type": "markdown",
      "source": [
        "# **Preprocess Functions**"
      ],
      "metadata": {
        "id": "5nUw-kpZjJ_F"
      },
      "id": "5nUw-kpZjJ_F"
    },
    {
      "cell_type": "code",
      "source": [
        "def normalize(dataset):\n",
        "#Min-max normalization of the dataset\n",
        "        dataset = dataset/255\n",
        "#         dataset = (dataset - np.min(dataset)) / (np.max(dataset) - np.min(dataset))\n",
        "        return dataset\n",
        "    \n",
        "def onehotencoding(dataset_label,num_classes):\n",
        "#One Hot encoding of the class label\n",
        "        shape = (dataset_label.size, num_classes)\n",
        "        num_rows = np.arange(dataset_label.size)\n",
        "        dataset_target_hot = np.zeros(shape)\n",
        "        dataset_target_hot[num_rows, dataset_label] = 1\n",
        "        return dataset_target_hot\n",
        "    \n",
        "def NormalizedRandomSampling(dataset,sample_size):\n",
        "#Random Sample the dataset based on passed sample size\n",
        "        dataset_targets = dataset.targets.numpy()\n",
        "        dataset_data = dataset.data.numpy()\n",
        "        dataset_data = normalize(dataset_data)        \n",
        "        Full_dataset_index = np.arange(dataset.data.shape[0]) \n",
        "        Sampled_dataset_index = np.random.choice(Full_dataset_index, sample_size, replace= False)\n",
        "        dataset_data = np.take(dataset_data,Sampled_dataset_index,axis=0)\n",
        "        dataset_targets = np.take(dataset_targets,Sampled_dataset_index,axis=0)\n",
        "        return dataset_data,dataset_targets\n",
        "\n",
        "def datasetshuffling(dataset_data_target_Label,sample_size):\n",
        "#Random Shuffle the dataset   \n",
        "        Batch_dataset_index = np.arange(dataset_data_target_Label[0].shape[0])\n",
        "        Sampled_dataset_index = np.random.choice(Batch_dataset_index, sample_size, replace= False)\n",
        "        dataset_data_np = np.take(dataset_data_target_Label[0],Sampled_dataset_index,axis=0)\n",
        "        dataset_label_np = np.take(dataset_data_target_Label[1],Sampled_dataset_index,axis=0)\n",
        "        return dataset_data_np,dataset_label_np\n",
        "    \n",
        "\n",
        "def validationPhase(network,test_batch,num_features):\n",
        "#Validation phase of the dataset\n",
        "        Layer_output = test_batch.reshape(-1,num_features)\n",
        "        Layer_output = network[0].forward(Layer_output)    \n",
        "        Layer_output = network[1].forward(Layer_output)        \n",
        "        y_prediction,average_loss,cross_entropy = network[2].forward(Layer_output,test_label_batch)\n",
        "        return y_prediction,average_loss,cross_entropy\n",
        "        "
      ],
      "metadata": {
        "id": "O-yGAEw9iUEC"
      },
      "id": "O-yGAEw9iUEC",
      "execution_count": null,
      "outputs": []
    },
    {
      "cell_type": "markdown",
      "source": [
        "# **Dataset Preprocess**"
      ],
      "metadata": {
        "id": "cXvgTmtojQRg"
      },
      "id": "cXvgTmtojQRg"
    },
    {
      "cell_type": "code",
      "source": [
        "\n",
        "device = \"cuda\" if torch.cuda.is_available() else \"cpu\"\n",
        "\n",
        "batch_size = 32\n",
        "num_epochs = 200\n",
        "learning_rate = 0.01\n",
        "num_classes = 10\n",
        "num_features = 784\n",
        "train50Len = 30000\n",
        "val50Len = 5000\n",
        "\n",
        "\n",
        "train = tv.datasets.MNIST('../data', download=True,train=True)\n",
        "val = tv.datasets.MNIST('../data', download=True,train=False)\n",
        "\n",
        "train_data,train_label = NormalizedRandomSampling(train,train50Len)\n",
        "test_data,test_label = NormalizedRandomSampling(val,val50Len)\n",
        "\n",
        "train_label = onehotencoding(train_label,num_classes)\n",
        "test_label  = onehotencoding(test_label,num_classes)\n",
        "\n",
        "train_data_target_Label = [train_data, train_label]\n",
        "test_data_target_Label =  [test_data, test_label]"
      ],
      "metadata": {
        "id": "Omu4WID9ibTu"
      },
      "id": "Omu4WID9ibTu",
      "execution_count": null,
      "outputs": []
    },
    {
      "cell_type": "markdown",
      "source": [
        "# **Neural Network Initializations**"
      ],
      "metadata": {
        "id": "wlfJod4LjWK5"
      },
      "id": "wlfJod4LjWK5"
    },
    {
      "cell_type": "code",
      "source": [
        "LL_T = LinearLayer_t(num_features,num_classes)\n",
        "Rel_T = Relu_t()\n",
        "SS_T = SoftmaxCrossEntropy_t()\n",
        "\n",
        "network = [LL_T,Rel_T,SS_T]"
      ],
      "metadata": {
        "id": "Vp8ewQycifJd"
      },
      "id": "Vp8ewQycifJd",
      "execution_count": null,
      "outputs": []
    },
    {
      "cell_type": "markdown",
      "source": [
        "# **Batch wise Train + Validation Process**"
      ],
      "metadata": {
        "id": "DajWbRDajb9y"
      },
      "id": "DajWbRDajb9y"
    },
    {
      "cell_type": "code",
      "execution_count": null,
      "id": "fb5190f6",
      "metadata": {
        "colab": {
          "base_uri": "https://localhost:8080/"
        },
        "id": "fb5190f6",
        "outputId": "9a2ad10b-cc79-460c-b3c9-ce4a972bd37e"
      },
      "outputs": [
        {
          "output_type": "stream",
          "name": "stdout",
          "text": [
            "Epoch:  1\n",
            "Training Accuracy:  80.41044776119402\n",
            "Testing Accuracy:  86.5047770700637\n",
            "Epoch:  2\n",
            "Training Accuracy:  87.04357675906184\n",
            "Testing Accuracy:  87.9578025477707\n",
            "Epoch:  3\n",
            "Training Accuracy:  88.18630063965884\n",
            "Testing Accuracy:  88.89331210191082\n",
            "Epoch:  4\n",
            "Training Accuracy:  88.76932302771856\n",
            "Testing Accuracy:  89.45063694267516\n",
            "Epoch:  5\n",
            "Training Accuracy:  89.23240938166312\n",
            "Testing Accuracy:  89.88853503184714\n",
            "Epoch:  6\n",
            "Training Accuracy:  89.61553837953092\n",
            "Testing Accuracy:  90.10748407643312\n",
            "Epoch:  7\n",
            "Training Accuracy:  89.8320895522388\n",
            "Testing Accuracy:  90.1671974522293\n",
            "Epoch:  8\n",
            "Training Accuracy:  90.09861407249467\n",
            "Testing Accuracy:  90.34633757961782\n",
            "Epoch:  9\n",
            "Training Accuracy:  90.29850746268657\n",
            "Testing Accuracy:  90.48566878980891\n",
            "Epoch:  10\n",
            "Training Accuracy:  90.39179104477611\n",
            "Testing Accuracy:  90.68471337579618\n",
            "Epoch:  11\n",
            "Training Accuracy:  90.50839552238806\n",
            "Testing Accuracy:  90.80414012738854\n",
            "Epoch:  12\n",
            "Training Accuracy:  90.65165245202559\n",
            "Testing Accuracy:  90.843949044586\n",
            "Epoch:  13\n",
            "Training Accuracy:  90.76159381663112\n",
            "Testing Accuracy:  90.843949044586\n",
            "Epoch:  14\n",
            "Training Accuracy:  90.86487206823027\n",
            "Testing Accuracy:  90.94347133757962\n",
            "Epoch:  15\n",
            "Training Accuracy:  90.96815031982942\n",
            "Testing Accuracy:  91.02308917197452\n",
            "Epoch:  16\n",
            "Training Accuracy:  91.0381130063966\n",
            "Testing Accuracy:  91.02308917197452\n",
            "Epoch:  17\n",
            "Training Accuracy:  91.13139658848614\n",
            "Testing Accuracy:  91.10270700636943\n",
            "Epoch:  18\n",
            "Training Accuracy:  91.2146855010661\n",
            "Testing Accuracy:  91.12261146496814\n",
            "Epoch:  19\n",
            "Training Accuracy:  91.26799040511727\n",
            "Testing Accuracy:  91.22213375796179\n",
            "Epoch:  20\n",
            "Training Accuracy:  91.32129530916845\n",
            "Testing Accuracy:  91.26194267515923\n",
            "Epoch:  21\n",
            "Training Accuracy:  91.3845948827292\n",
            "Testing Accuracy:  91.28184713375796\n",
            "Epoch:  22\n",
            "Training Accuracy:  91.43789978678039\n",
            "Testing Accuracy:  91.30175159235668\n",
            "Epoch:  23\n",
            "Training Accuracy:  91.47454690831557\n",
            "Testing Accuracy:  91.32165605095541\n",
            "Epoch:  24\n",
            "Training Accuracy:  91.52118869936035\n",
            "Testing Accuracy:  91.32165605095541\n",
            "Epoch:  25\n",
            "Training Accuracy:  91.57782515991471\n",
            "Testing Accuracy:  91.40127388535032\n",
            "Epoch:  26\n",
            "Training Accuracy:  91.6078091684435\n",
            "Testing Accuracy:  91.44108280254777\n",
            "Epoch:  27\n",
            "Training Accuracy:  91.63113006396588\n",
            "Testing Accuracy:  91.48089171974523\n",
            "Epoch:  28\n",
            "Training Accuracy:  91.65445095948827\n",
            "Testing Accuracy:  91.4609872611465\n",
            "Epoch:  29\n",
            "Training Accuracy:  91.69109808102345\n",
            "Testing Accuracy:  91.48089171974523\n",
            "Epoch:  30\n",
            "Training Accuracy:  91.75106609808103\n",
            "Testing Accuracy:  91.54060509554141\n",
            "Epoch:  31\n",
            "Training Accuracy:  91.7977078891258\n",
            "Testing Accuracy:  91.6202229299363\n",
            "Epoch:  32\n",
            "Training Accuracy:  91.8110341151386\n",
            "Testing Accuracy:  91.67993630573248\n",
            "Epoch:  33\n",
            "Training Accuracy:  91.84101812366737\n",
            "Testing Accuracy:  91.69984076433121\n",
            "Epoch:  34\n",
            "Training Accuracy:  91.86767057569296\n",
            "Testing Accuracy:  91.69984076433121\n",
            "Epoch:  35\n",
            "Training Accuracy:  91.92430703624733\n",
            "Testing Accuracy:  91.69984076433121\n",
            "Epoch:  36\n",
            "Training Accuracy:  91.94096481876332\n",
            "Testing Accuracy:  91.69984076433121\n",
            "Epoch:  37\n",
            "Training Accuracy:  91.95095948827291\n",
            "Testing Accuracy:  91.73964968152866\n",
            "Epoch:  38\n",
            "Training Accuracy:  91.97761194029852\n",
            "Testing Accuracy:  91.75955414012739\n",
            "Epoch:  39\n",
            "Training Accuracy:  92.00759594882729\n",
            "Testing Accuracy:  91.75955414012739\n",
            "Epoch:  40\n",
            "Training Accuracy:  92.03424840085287\n",
            "Testing Accuracy:  91.75955414012739\n",
            "Epoch:  41\n",
            "Training Accuracy:  92.05090618336888\n",
            "Testing Accuracy:  91.75955414012739\n",
            "Epoch:  42\n",
            "Training Accuracy:  92.08755330490405\n",
            "Testing Accuracy:  91.75955414012739\n",
            "Epoch:  43\n",
            "Training Accuracy:  92.10754264392324\n",
            "Testing Accuracy:  91.69984076433121\n",
            "Epoch:  44\n",
            "Training Accuracy:  92.12753198294243\n",
            "Testing Accuracy:  91.69984076433121\n",
            "Epoch:  45\n",
            "Training Accuracy:  92.15418443496802\n",
            "Testing Accuracy:  91.71974522292994\n",
            "Epoch:  46\n",
            "Training Accuracy:  92.16751066098081\n",
            "Testing Accuracy:  91.71974522292994\n",
            "Epoch:  47\n",
            "Training Accuracy:  92.20415778251599\n",
            "Testing Accuracy:  91.69984076433121\n",
            "Epoch:  48\n",
            "Training Accuracy:  92.23414179104478\n",
            "Testing Accuracy:  91.67993630573248\n",
            "Epoch:  49\n",
            "Training Accuracy:  92.26745735607676\n",
            "Testing Accuracy:  91.67993630573248\n",
            "Epoch:  50\n",
            "Training Accuracy:  92.30410447761194\n",
            "Testing Accuracy:  91.69984076433121\n",
            "Epoch:  51\n",
            "Training Accuracy:  92.32742537313433\n",
            "Testing Accuracy:  91.69984076433121\n",
            "Epoch:  52\n",
            "Training Accuracy:  92.34741471215352\n",
            "Testing Accuracy:  91.69984076433121\n",
            "Epoch:  53\n",
            "Training Accuracy:  92.35740938166312\n",
            "Testing Accuracy:  91.66003184713377\n",
            "Epoch:  54\n",
            "Training Accuracy:  92.3940565031983\n",
            "Testing Accuracy:  91.66003184713377\n",
            "Epoch:  55\n",
            "Training Accuracy:  92.4007196162047\n",
            "Testing Accuracy:  91.67993630573248\n",
            "Epoch:  56\n",
            "Training Accuracy:  92.4007196162047\n",
            "Testing Accuracy:  91.67993630573248\n",
            "Epoch:  57\n",
            "Training Accuracy:  92.42404051172709\n",
            "Testing Accuracy:  91.69984076433121\n",
            "Epoch:  58\n",
            "Training Accuracy:  92.45402452025586\n",
            "Testing Accuracy:  91.73964968152866\n",
            "Epoch:  59\n",
            "Training Accuracy:  92.46735074626866\n",
            "Testing Accuracy:  91.73964968152866\n",
            "Epoch:  60\n",
            "Training Accuracy:  92.47401385927505\n",
            "Testing Accuracy:  91.73964968152866\n",
            "Epoch:  61\n",
            "Training Accuracy:  92.49400319829424\n",
            "Testing Accuracy:  91.77945859872611\n",
            "Epoch:  62\n",
            "Training Accuracy:  92.52398720682304\n",
            "Testing Accuracy:  91.77945859872611\n",
            "Epoch:  63\n",
            "Training Accuracy:  92.54730810234541\n",
            "Testing Accuracy:  91.75955414012739\n",
            "Epoch:  64\n",
            "Training Accuracy:  92.55397121535182\n",
            "Testing Accuracy:  91.75955414012739\n",
            "Epoch:  65\n",
            "Training Accuracy:  92.5672974413646\n",
            "Testing Accuracy:  91.71974522292994\n",
            "Epoch:  66\n",
            "Training Accuracy:  92.5839552238806\n",
            "Testing Accuracy:  91.71974522292994\n",
            "Epoch:  67\n",
            "Training Accuracy:  92.59728144989339\n",
            "Testing Accuracy:  91.69984076433121\n",
            "Epoch:  68\n",
            "Training Accuracy:  92.60727611940298\n",
            "Testing Accuracy:  91.71974522292994\n",
            "Epoch:  69\n",
            "Training Accuracy:  92.62060234541578\n",
            "Testing Accuracy:  91.75955414012739\n",
            "Epoch:  70\n",
            "Training Accuracy:  92.62726545842217\n",
            "Testing Accuracy:  91.75955414012739\n",
            "Epoch:  71\n",
            "Training Accuracy:  92.64725479744136\n",
            "Testing Accuracy:  91.73964968152866\n",
            "Epoch:  72\n",
            "Training Accuracy:  92.65391791044776\n",
            "Testing Accuracy:  91.71974522292994\n",
            "Epoch:  73\n",
            "Training Accuracy:  92.66391257995735\n",
            "Testing Accuracy:  91.69984076433121\n",
            "Epoch:  74\n",
            "Training Accuracy:  92.67057569296375\n",
            "Testing Accuracy:  91.69984076433121\n",
            "Epoch:  75\n",
            "Training Accuracy:  92.70722281449893\n",
            "Testing Accuracy:  91.69984076433121\n",
            "Epoch:  76\n",
            "Training Accuracy:  92.72054904051173\n",
            "Testing Accuracy:  91.69984076433121\n",
            "Epoch:  77\n",
            "Training Accuracy:  92.73054371002132\n",
            "Testing Accuracy:  91.71974522292994\n",
            "Epoch:  78\n",
            "Training Accuracy:  92.74053837953092\n",
            "Testing Accuracy:  91.73964968152866\n",
            "Epoch:  79\n",
            "Training Accuracy:  92.74386993603412\n",
            "Testing Accuracy:  91.77945859872611\n",
            "Epoch:  80\n",
            "Training Accuracy:  92.75386460554371\n",
            "Testing Accuracy:  91.79936305732484\n",
            "Epoch:  81\n",
            "Training Accuracy:  92.7638592750533\n",
            "Testing Accuracy:  91.79936305732484\n",
            "Epoch:  82\n",
            "Training Accuracy:  92.76052771855011\n",
            "Testing Accuracy:  91.79936305732484\n",
            "Epoch:  83\n",
            "Training Accuracy:  92.7705223880597\n",
            "Testing Accuracy:  91.79936305732484\n",
            "Epoch:  84\n",
            "Training Accuracy:  92.7738539445629\n",
            "Testing Accuracy:  91.79936305732484\n",
            "Epoch:  85\n",
            "Training Accuracy:  92.7805170575693\n",
            "Testing Accuracy:  91.77945859872611\n",
            "Epoch:  86\n",
            "Training Accuracy:  92.7871801705757\n",
            "Testing Accuracy:  91.77945859872611\n",
            "Epoch:  87\n",
            "Training Accuracy:  92.7838486140725\n",
            "Testing Accuracy:  91.75955414012739\n",
            "Epoch:  88\n",
            "Training Accuracy:  92.7838486140725\n",
            "Testing Accuracy:  91.77945859872611\n",
            "Epoch:  89\n",
            "Training Accuracy:  92.7871801705757\n",
            "Testing Accuracy:  91.79936305732484\n",
            "Epoch:  90\n",
            "Training Accuracy:  92.79717484008529\n",
            "Testing Accuracy:  91.79936305732484\n",
            "Epoch:  91\n",
            "Training Accuracy:  92.80383795309169\n",
            "Testing Accuracy:  91.77945859872611\n",
            "Epoch:  92\n",
            "Training Accuracy:  92.79717484008529\n",
            "Testing Accuracy:  91.77945859872611\n",
            "Epoch:  93\n",
            "Training Accuracy:  92.81050106609808\n",
            "Testing Accuracy:  91.75955414012739\n",
            "Epoch:  94\n",
            "Training Accuracy:  92.81050106609808\n",
            "Testing Accuracy:  91.75955414012739\n",
            "Epoch:  95\n",
            "Training Accuracy:  92.81383262260128\n",
            "Testing Accuracy:  91.73964968152866\n",
            "Epoch:  96\n",
            "Training Accuracy:  92.83715351812367\n",
            "Testing Accuracy:  91.69984076433121\n",
            "Epoch:  97\n",
            "Training Accuracy:  92.85047974413646\n",
            "Testing Accuracy:  91.67993630573248\n",
            "Epoch:  98\n",
            "Training Accuracy:  92.85714285714286\n",
            "Testing Accuracy:  91.64012738853503\n",
            "Epoch:  99\n",
            "Training Accuracy:  92.85381130063965\n",
            "Testing Accuracy:  91.64012738853503\n",
            "Epoch:  100\n",
            "Training Accuracy:  92.85047974413646\n",
            "Testing Accuracy:  91.6202229299363\n",
            "Epoch:  101\n",
            "Training Accuracy:  92.85381130063965\n",
            "Testing Accuracy:  91.60031847133759\n",
            "Epoch:  102\n",
            "Training Accuracy:  92.87713219616205\n",
            "Testing Accuracy:  91.60031847133759\n",
            "Epoch:  103\n",
            "Training Accuracy:  92.88379530916845\n",
            "Testing Accuracy:  91.6202229299363\n",
            "Epoch:  104\n",
            "Training Accuracy:  92.89378997867804\n",
            "Testing Accuracy:  91.6202229299363\n",
            "Epoch:  105\n",
            "Training Accuracy:  92.90045309168443\n",
            "Testing Accuracy:  91.6202229299363\n",
            "Epoch:  106\n",
            "Training Accuracy:  92.90378464818764\n",
            "Testing Accuracy:  91.64012738853503\n",
            "Epoch:  107\n",
            "Training Accuracy:  92.92377398720683\n",
            "Testing Accuracy:  91.64012738853503\n",
            "Epoch:  108\n",
            "Training Accuracy:  92.94043176972282\n",
            "Testing Accuracy:  91.67993630573248\n",
            "Epoch:  109\n",
            "Training Accuracy:  92.94376332622602\n",
            "Testing Accuracy:  91.67993630573248\n",
            "Epoch:  110\n",
            "Training Accuracy:  92.9470948827292\n",
            "Testing Accuracy:  91.67993630573248\n",
            "Epoch:  111\n",
            "Training Accuracy:  92.9570895522388\n",
            "Testing Accuracy:  91.69984076433121\n",
            "Epoch:  112\n",
            "Training Accuracy:  92.9704157782516\n",
            "Testing Accuracy:  91.71974522292994\n",
            "Epoch:  113\n",
            "Training Accuracy:  92.9704157782516\n",
            "Testing Accuracy:  91.69984076433121\n",
            "Epoch:  114\n",
            "Training Accuracy:  92.9904051172708\n",
            "Testing Accuracy:  91.71974522292994\n",
            "Epoch:  115\n",
            "Training Accuracy:  93.00039978678039\n",
            "Testing Accuracy:  91.73964968152866\n",
            "Epoch:  116\n",
            "Training Accuracy:  93.00706289978679\n",
            "Testing Accuracy:  91.71974522292994\n",
            "Epoch:  117\n",
            "Training Accuracy:  93.01372601279317\n",
            "Testing Accuracy:  91.73964968152866\n",
            "Epoch:  118\n",
            "Training Accuracy:  93.01705756929638\n",
            "Testing Accuracy:  91.71974522292994\n",
            "Epoch:  119\n",
            "Training Accuracy:  93.02038912579957\n",
            "Testing Accuracy:  91.73964968152866\n",
            "Epoch:  120\n",
            "Training Accuracy:  93.03038379530916\n",
            "Testing Accuracy:  91.77945859872611\n",
            "Epoch:  121\n",
            "Training Accuracy:  93.04371002132196\n",
            "Testing Accuracy:  91.77945859872611\n",
            "Epoch:  122\n",
            "Training Accuracy:  93.05037313432835\n",
            "Testing Accuracy:  91.77945859872611\n",
            "Epoch:  123\n",
            "Training Accuracy:  93.05037313432835\n",
            "Testing Accuracy:  91.77945859872611\n",
            "Epoch:  124\n",
            "Training Accuracy:  93.05703624733475\n",
            "Testing Accuracy:  91.77945859872611\n",
            "Epoch:  125\n",
            "Training Accuracy:  93.06369936034116\n",
            "Testing Accuracy:  91.79936305732484\n",
            "Epoch:  126\n",
            "Training Accuracy:  93.07036247334754\n",
            "Testing Accuracy:  91.77945859872611\n",
            "Epoch:  127\n",
            "Training Accuracy:  93.07036247334754\n",
            "Testing Accuracy:  91.75955414012739\n",
            "Epoch:  128\n",
            "Training Accuracy:  93.05703624733475\n",
            "Testing Accuracy:  91.75955414012739\n",
            "Epoch:  129\n",
            "Training Accuracy:  93.07369402985076\n",
            "Testing Accuracy:  91.77945859872611\n",
            "Epoch:  130\n",
            "Training Accuracy:  93.08035714285714\n",
            "Testing Accuracy:  91.77945859872611\n",
            "Epoch:  131\n",
            "Training Accuracy:  93.08368869936035\n",
            "Testing Accuracy:  91.77945859872611\n",
            "Epoch:  132\n",
            "Training Accuracy:  93.08368869936035\n",
            "Testing Accuracy:  91.75955414012739\n",
            "Epoch:  133\n",
            "Training Accuracy:  93.08702025586354\n",
            "Testing Accuracy:  91.77945859872611\n",
            "Epoch:  134\n",
            "Training Accuracy:  93.09701492537313\n",
            "Testing Accuracy:  91.77945859872611\n",
            "Epoch:  135\n",
            "Training Accuracy:  93.09368336886993\n",
            "Testing Accuracy:  91.77945859872611\n",
            "Epoch:  136\n",
            "Training Accuracy:  93.10367803837953\n",
            "Testing Accuracy:  91.79936305732484\n",
            "Epoch:  137\n",
            "Training Accuracy:  93.11034115138592\n",
            "Testing Accuracy:  91.79936305732484\n",
            "Epoch:  138\n",
            "Training Accuracy:  93.12699893390192\n",
            "Testing Accuracy:  91.79936305732484\n",
            "Epoch:  139\n",
            "Training Accuracy:  93.13366204690831\n",
            "Testing Accuracy:  91.79936305732484\n",
            "Epoch:  140\n",
            "Training Accuracy:  93.14365671641791\n",
            "Testing Accuracy:  91.79936305732484\n",
            "Epoch:  141\n",
            "Training Accuracy:  93.1569829424307\n",
            "Testing Accuracy:  91.79936305732484\n",
            "Epoch:  142\n",
            "Training Accuracy:  93.1603144989339\n",
            "Testing Accuracy:  91.81926751592357\n",
            "Epoch:  143\n",
            "Training Accuracy:  93.1636460554371\n",
            "Testing Accuracy:  91.79936305732484\n",
            "Epoch:  144\n",
            "Training Accuracy:  93.1669776119403\n",
            "Testing Accuracy:  91.81926751592357\n",
            "Epoch:  145\n",
            "Training Accuracy:  93.1636460554371\n",
            "Testing Accuracy:  91.81926751592357\n",
            "Epoch:  146\n",
            "Training Accuracy:  93.1703091684435\n",
            "Testing Accuracy:  91.81926751592357\n",
            "Epoch:  147\n",
            "Training Accuracy:  93.18030383795309\n",
            "Testing Accuracy:  91.81926751592357\n",
            "Epoch:  148\n",
            "Training Accuracy:  93.19029850746269\n",
            "Testing Accuracy:  91.81926751592357\n",
            "Epoch:  149\n",
            "Training Accuracy:  93.19696162046908\n",
            "Testing Accuracy:  91.79936305732484\n",
            "Epoch:  150\n",
            "Training Accuracy:  93.21028784648188\n",
            "Testing Accuracy:  91.79936305732484\n",
            "Epoch:  151\n",
            "Training Accuracy:  93.21695095948827\n",
            "Testing Accuracy:  91.81926751592357\n",
            "Epoch:  152\n",
            "Training Accuracy:  93.22028251599147\n",
            "Testing Accuracy:  91.83917197452229\n",
            "Epoch:  153\n",
            "Training Accuracy:  93.22028251599147\n",
            "Testing Accuracy:  91.83917197452229\n",
            "Epoch:  154\n",
            "Training Accuracy:  93.22028251599147\n",
            "Testing Accuracy:  91.83917197452229\n",
            "Epoch:  155\n",
            "Training Accuracy:  93.22361407249467\n",
            "Testing Accuracy:  91.83917197452229\n",
            "Epoch:  156\n",
            "Training Accuracy:  93.22361407249467\n",
            "Testing Accuracy:  91.83917197452229\n",
            "Epoch:  157\n",
            "Training Accuracy:  93.23027718550107\n",
            "Testing Accuracy:  91.83917197452229\n",
            "Epoch:  158\n",
            "Training Accuracy:  93.22694562899787\n",
            "Testing Accuracy:  91.83917197452229\n",
            "Epoch:  159\n",
            "Training Accuracy:  93.23360874200426\n",
            "Testing Accuracy:  91.83917197452229\n",
            "Epoch:  160\n",
            "Training Accuracy:  93.23360874200426\n",
            "Testing Accuracy:  91.83917197452229\n",
            "Epoch:  161\n",
            "Training Accuracy:  93.23360874200426\n",
            "Testing Accuracy:  91.83917197452229\n",
            "Epoch:  162\n",
            "Training Accuracy:  93.24360341151386\n",
            "Testing Accuracy:  91.83917197452229\n",
            "Epoch:  163\n",
            "Training Accuracy:  93.23694029850746\n",
            "Testing Accuracy:  91.81926751592357\n",
            "Epoch:  164\n",
            "Training Accuracy:  93.24360341151386\n",
            "Testing Accuracy:  91.81926751592357\n",
            "Epoch:  165\n",
            "Training Accuracy:  93.24693496801706\n",
            "Testing Accuracy:  91.81926751592357\n",
            "Epoch:  166\n",
            "Training Accuracy:  93.25026652452026\n",
            "Testing Accuracy:  91.77945859872611\n",
            "Epoch:  167\n",
            "Training Accuracy:  93.25026652452026\n",
            "Testing Accuracy:  91.77945859872611\n",
            "Epoch:  168\n",
            "Training Accuracy:  93.25026652452026\n",
            "Testing Accuracy:  91.77945859872611\n",
            "Epoch:  169\n",
            "Training Accuracy:  93.25026652452026\n",
            "Testing Accuracy:  91.77945859872611\n",
            "Epoch:  170\n",
            "Training Accuracy:  93.25692963752665\n",
            "Testing Accuracy:  91.77945859872611\n",
            "Epoch:  171\n",
            "Training Accuracy:  93.25692963752665\n",
            "Testing Accuracy:  91.77945859872611\n",
            "Epoch:  172\n",
            "Training Accuracy:  93.26026119402985\n",
            "Testing Accuracy:  91.77945859872611\n",
            "Epoch:  173\n",
            "Training Accuracy:  93.27025586353945\n",
            "Testing Accuracy:  91.77945859872611\n",
            "Epoch:  174\n",
            "Training Accuracy:  93.27358742004265\n",
            "Testing Accuracy:  91.75955414012739\n",
            "Epoch:  175\n",
            "Training Accuracy:  93.27691897654584\n",
            "Testing Accuracy:  91.77945859872611\n",
            "Epoch:  176\n",
            "Training Accuracy:  93.28025053304904\n",
            "Testing Accuracy:  91.77945859872611\n",
            "Epoch:  177\n",
            "Training Accuracy:  93.28358208955224\n",
            "Testing Accuracy:  91.77945859872611\n",
            "Epoch:  178\n",
            "Training Accuracy:  93.29024520255864\n",
            "Testing Accuracy:  91.77945859872611\n",
            "Epoch:  179\n",
            "Training Accuracy:  93.29357675906184\n",
            "Testing Accuracy:  91.77945859872611\n",
            "Epoch:  180\n",
            "Training Accuracy:  93.30690298507463\n",
            "Testing Accuracy:  91.77945859872611\n",
            "Epoch:  181\n",
            "Training Accuracy:  93.30690298507463\n",
            "Testing Accuracy:  91.79936305732484\n",
            "Epoch:  182\n",
            "Training Accuracy:  93.31023454157783\n",
            "Testing Accuracy:  91.81926751592357\n",
            "Epoch:  183\n",
            "Training Accuracy:  93.31356609808103\n",
            "Testing Accuracy:  91.81926751592357\n",
            "Epoch:  184\n",
            "Training Accuracy:  93.31023454157783\n",
            "Testing Accuracy:  91.81926751592357\n",
            "Epoch:  185\n",
            "Training Accuracy:  93.31689765458422\n",
            "Testing Accuracy:  91.81926751592357\n",
            "Epoch:  186\n",
            "Training Accuracy:  93.32689232409382\n",
            "Testing Accuracy:  91.81926751592357\n",
            "Epoch:  187\n",
            "Training Accuracy:  93.33022388059702\n",
            "Testing Accuracy:  91.79936305732484\n",
            "Epoch:  188\n",
            "Training Accuracy:  93.33022388059702\n",
            "Testing Accuracy:  91.79936305732484\n",
            "Epoch:  189\n",
            "Training Accuracy:  93.3368869936034\n",
            "Testing Accuracy:  91.79936305732484\n",
            "Epoch:  190\n",
            "Training Accuracy:  93.33355543710022\n",
            "Testing Accuracy:  91.81926751592357\n",
            "Epoch:  191\n",
            "Training Accuracy:  93.3368869936034\n",
            "Testing Accuracy:  91.77945859872611\n",
            "Epoch:  192\n",
            "Training Accuracy:  93.35021321961621\n",
            "Testing Accuracy:  91.77945859872611\n",
            "Epoch:  193\n",
            "Training Accuracy:  93.35021321961621\n",
            "Testing Accuracy:  91.75955414012739\n",
            "Epoch:  194\n",
            "Training Accuracy:  93.35021321961621\n",
            "Testing Accuracy:  91.75955414012739\n",
            "Epoch:  195\n",
            "Training Accuracy:  93.35021321961621\n",
            "Testing Accuracy:  91.75955414012739\n",
            "Epoch:  196\n",
            "Training Accuracy:  93.3535447761194\n",
            "Testing Accuracy:  91.73964968152866\n",
            "Epoch:  197\n",
            "Training Accuracy:  93.3535447761194\n",
            "Testing Accuracy:  91.73964968152866\n",
            "Epoch:  198\n",
            "Training Accuracy:  93.363539445629\n",
            "Testing Accuracy:  91.73964968152866\n",
            "Epoch:  199\n",
            "Training Accuracy:  93.363539445629\n",
            "Testing Accuracy:  91.75955414012739\n",
            "Epoch:  200\n",
            "Training Accuracy:  93.3668710021322\n",
            "Testing Accuracy:  91.75955414012739\n"
          ]
        }
      ],
      "source": [
        "loss = []\n",
        "valloss = []\n",
        "AllBatchTrainLoss = []\n",
        "AllBatchValLoss = []\n",
        "trainingacc = []\n",
        "validationacc = []\n",
        "batchtrainingacc = []\n",
        "batchvalidationacc = []\n",
        "#epoch iteration\n",
        "for epoch in range(num_epochs):\n",
        "#     train_data_np,train_label_np = datasetshuffling(train_data_target_Label,train50Len)\n",
        "#     test_data_np,test_label_np = datasetshuffling(test_data_target_Label,val50Len)\n",
        "    train_data_np,train_label_np = train_data_target_Label\n",
        "    test_data_np,test_label_np = test_data_target_Label\n",
        "    train_accuracy = 0\n",
        "    test_accuracy = 0\n",
        "    epochtrainloss = []\n",
        "    epochtestloss = []\n",
        "    print(\"Epoch: \",epoch+1 )\n",
        "    counter = 0\n",
        "    batch_idx = 0\n",
        " #Batch iteration   \n",
        "    while(counter<=train_data_np.shape[0]):\n",
        "        if (train_data_np.shape[0] - counter) < batch_size:\n",
        "            train_batch = train_data_np[counter:]\n",
        "            train_label_batch = train_label_np[counter:]\n",
        "            counter = counter + batch_size\n",
        "\n",
        "        else:\n",
        "            train_batch = train_data_np[counter:counter + batch_size]\n",
        "            train_label_batch = train_label_np[counter:counter + batch_size]\n",
        "            counter = counter + batch_size\n",
        "            \n",
        "        real = train_batch.reshape(-1,num_features)\n",
        "                \n",
        "        Layer_output = LL_T.forward(real)    \n",
        "        Layer_output = Rel_T.forward(Layer_output)        \n",
        "        y_prediction,average_loss,cross_entropy = SS_T.forward(Layer_output,train_label_batch)\n",
        "        \n",
        "        epochtrainloss.append(average_loss)\n",
        "        AllBatchTrainLoss.append(average_loss)\n",
        "        acc = np.argmax(y_prediction, axis = 1)\n",
        "#       print(acc)\n",
        "        labels = np.argmax(train_label_batch, axis = 1)\n",
        "        train_accuracy += np.count_nonzero(acc == labels)\n",
        "        batchtrainingacc.append((np.count_nonzero(acc == labels)/batch_size) * 100)\n",
        "        \n",
        "        grad_output1 = SS_T.backward(cross_entropy)\n",
        "        grad_output2 = Rel_T.backward(grad_output1)\n",
        "        grad_output3 = LL_T.backward(grad_output2)\n",
        "               \n",
        "        \n",
        "        batch_idx = batch_idx + 1\n",
        "\n",
        "        LL_T.w = LL_T.w - learning_rate*LL_T.dl_dw\n",
        "        LL_T.b = LL_T.b - learning_rate*LL_T.dl_db\n",
        "        \n",
        "        for layer in network:\n",
        "            layer.zero_grad()\n",
        "\n",
        "    trainingacc.append((train_accuracy/counter)*100)\n",
        "    loss.append(np.mean(epochtrainloss))       \n",
        "    print(\"Training Accuracy: \",(train_accuracy/counter)*100)\n",
        "    \n",
        "#Validation phase of the dataset for each epoch    \n",
        "    testcounter = 0\n",
        "    testbatch_idx = 0\n",
        "    #Batchwise iteration\n",
        "    while(testcounter<=test_data_np.shape[0]):\n",
        "        if (test_data_np.shape[0] - testcounter) < batch_size:\n",
        "            test_batch = test_data_np[testcounter:]\n",
        "            test_label_batch = test_label_np[testcounter:]\n",
        "            testcounter = testcounter + batch_size\n",
        "        else:\n",
        "            test_batch = test_data_np[testcounter:testcounter + batch_size]\n",
        "            test_label_batch = test_label_np[testcounter:testcounter + batch_size]\n",
        "            testcounter = testcounter + batch_size\n",
        "        y_prediction,average_loss,cross_entropy = validationPhase(network,test_batch,num_features)\n",
        "        acc = np.argmax(y_prediction, axis = 1)\n",
        "        epochtestloss.append(average_loss)\n",
        "        AllBatchValLoss.append(average_loss)\n",
        "        labels = np.argmax(test_label_batch, axis = 1)\n",
        "        test_accuracy += np.count_nonzero(acc == labels)   \n",
        "        batchvalidationacc.append((np.count_nonzero(acc == labels)/batch_size) * 100)\n",
        "        \n",
        "    validationacc.append((test_accuracy/testcounter)*100)\n",
        "    valloss.append(np.mean(epochtestloss))        \n",
        "    print(\"Testing Accuracy: \",((test_accuracy/testcounter)*100))"
      ]
    },
    {
      "cell_type": "markdown",
      "source": [
        "# **Training/Validation Epochwise Loss:**"
      ],
      "metadata": {
        "id": "WVX_zQH4jnph"
      },
      "id": "WVX_zQH4jnph"
    },
    {
      "cell_type": "code",
      "execution_count": null,
      "id": "f68de81f",
      "metadata": {
        "colab": {
          "base_uri": "https://localhost:8080/",
          "height": 313
        },
        "id": "f68de81f",
        "outputId": "b7c0c6c8-a13d-4ac2-f3b8-4b1e0ade008e"
      },
      "outputs": [
        {
          "output_type": "execute_result",
          "data": {
            "text/plain": [
              "Text(0, 0.5, 'Loss')"
            ]
          },
          "metadata": {},
          "execution_count": 58
        },
        {
          "output_type": "display_data",
          "data": {
            "image/png": "[encoded data removed]",
            "text/plain": [
              "<Figure size 432x288 with 1 Axes>"
            ]
          },
          "metadata": {
            "needs_background": "light"
          }
        }
      ],
      "source": [
        "import matplotlib.pyplot as plt\n",
        "plt.title(\"Training/Validation Loss:\")\n",
        "plt.plot(loss,color = 'r', label=\"Training Loss\")\n",
        "plt.plot(valloss,label=\"validation Loss\")\n",
        "leg = plt.legend(loc='upper right')\n",
        "plt.xlabel(\"Batches\")\n",
        "plt.ylabel(\"Loss\")"
      ]
    },
    {
      "cell_type": "markdown",
      "source": [
        "# **Training/Validation Batchwise Loss:**"
      ],
      "metadata": {
        "id": "hgNJ13z1jyaV"
      },
      "id": "hgNJ13z1jyaV"
    },
    {
      "cell_type": "code",
      "source": [
        "import matplotlib.pyplot as plt\n",
        "plt.title(\"Batchwise Training/Validation Loss:\")\n",
        "plt.plot(AllBatchTrainLoss,color = 'r', label=\"Training Loss\")\n",
        "plt.plot(AllBatchValLoss,color = 'b', label=\"Testing Loss\")\n",
        "leg = plt.legend(loc='upper right')\n",
        "plt.xlabel(\"Batches\")\n",
        "plt.ylabel(\"Loss\")"
      ],
      "metadata": {
        "colab": {
          "base_uri": "https://localhost:8080/",
          "height": 313
        },
        "id": "biLxM3Rj8aJq",
        "outputId": "3dd80082-4488-44c2-f885-34e6483b93db"
      },
      "id": "biLxM3Rj8aJq",
      "execution_count": null,
      "outputs": [
        {
          "output_type": "execute_result",
          "data": {
            "text/plain": [
              "Text(0, 0.5, 'Loss')"
            ]
          },
          "metadata": {},
          "execution_count": 59
        },
        {
          "output_type": "display_data",
          "data": {
            "image/png": "[encoded data removed]",
            "text/plain": [
              "<Figure size 432x288 with 1 Axes>"
            ]
          },
          "metadata": {
            "needs_background": "light"
          }
        }
      ]
    },
    {
      "cell_type": "markdown",
      "source": [
        "# **Training/Validation Batchwise Accuracy:**"
      ],
      "metadata": {
        "id": "k6KvGHtYj-xH"
      },
      "id": "k6KvGHtYj-xH"
    },
    {
      "cell_type": "code",
      "execution_count": null,
      "id": "0cf8ba90",
      "metadata": {
        "colab": {
          "base_uri": "https://localhost:8080/",
          "height": 313
        },
        "id": "0cf8ba90",
        "outputId": "25336ff3-6cb5-48a1-b380-578bafc67cf8"
      },
      "outputs": [
        {
          "output_type": "execute_result",
          "data": {
            "text/plain": [
              "Text(0, 0.5, 'Accuracy%')"
            ]
          },
          "metadata": {},
          "execution_count": 60
        },
        {
          "output_type": "display_data",
          "data": {
            "image/png": "[encoded data removed]",
            "text/plain": [
              "<Figure size 432x288 with 1 Axes>"
            ]
          },
          "metadata": {
            "needs_background": "light"
          }
        }
      ],
      "source": [
        "plt.title(\"Training/validation Accuracy\")\n",
        "plt.plot(batchvalidationacc,label=\"Validation Acc\")\n",
        "plt.plot(batchtrainingacc,color = 'r',label=\"Training Acc\")\n",
        "leg = plt.legend(loc='lower right')\n",
        "plt.xlabel(\"batches\")\n",
        "plt.ylabel(\"Accuracy%\")"
      ]
    },
    {
      "cell_type": "markdown",
      "source": [
        "# **Training/Validation Batchwise Error:**"
      ],
      "metadata": {
        "id": "1-O_Ou5zkGtd"
      },
      "id": "1-O_Ou5zkGtd"
    },
    {
      "cell_type": "code",
      "source": [
        "plt.title(\"Training/validation Batch wise Error\")\n",
        "\n",
        "plt.plot(100-np.array(batchvalidationacc),label=\"Validation Error\")\n",
        "plt.plot(100-np.array(batchtrainingacc),color = 'r',label=\"Training Error\")\n",
        "leg = plt.legend(loc='upper right')\n",
        "plt.xlabel(\"batches\")\n",
        "plt.ylabel(\"Error%\")"
      ],
      "metadata": {
        "colab": {
          "base_uri": "https://localhost:8080/",
          "height": 313
        },
        "id": "mrf09bwRnU28",
        "outputId": "0fef6294-88b5-4887-c464-58b12491c89d"
      },
      "id": "mrf09bwRnU28",
      "execution_count": null,
      "outputs": [
        {
          "output_type": "execute_result",
          "data": {
            "text/plain": [
              "Text(0, 0.5, 'Error%')"
            ]
          },
          "metadata": {},
          "execution_count": 61
        },
        {
          "output_type": "display_data",
          "data": {
            "image/png": "[encoded data removed]",
            "text/plain": [
              "<Figure size 432x288 with 1 Axes>"
            ]
          },
          "metadata": {
            "needs_background": "light"
          }
        }
      ]
    },
    {
      "cell_type": "markdown",
      "source": [
        "# **Training/Validation Epochwise Error:**"
      ],
      "metadata": {
        "id": "0aHdeqf_kkpl"
      },
      "id": "0aHdeqf_kkpl"
    },
    {
      "cell_type": "code",
      "source": [
        "plt.title(\"Training/validation Error\")\n",
        "plt.plot(100-np.array(trainingacc),color = 'r',label=\"Training Error\")\n",
        "plt.plot(100-np.array(validationacc),label=\"Validation Error\")\n",
        "leg = plt.legend(loc='upper right')\n",
        "plt.xlabel(\"Epochs\")\n",
        "plt.ylabel(\"Training Error%\")"
      ],
      "metadata": {
        "id": "X6qzNkGnjIAF",
        "colab": {
          "base_uri": "https://localhost:8080/",
          "height": 313
        },
        "outputId": "c3c69cba-22ba-4d09-adb9-4581b3b5dbf2"
      },
      "id": "X6qzNkGnjIAF",
      "execution_count": null,
      "outputs": [
        {
          "output_type": "execute_result",
          "data": {
            "text/plain": [
              "Text(0, 0.5, 'Training Error%')"
            ]
          },
          "metadata": {},
          "execution_count": 62
        },
        {
          "output_type": "display_data",
          "data": {
            "image/png": "[encoded data removed]",
            "text/plain": [
              "<Figure size 432x288 with 1 Axes>"
            ]
          },
          "metadata": {
            "needs_background": "light"
          }
        }
      ]
    },
    {
      "cell_type": "markdown",
      "source": [
        "# **Training/Validation Epochwise Accuracy:**"
      ],
      "metadata": {
        "id": "eXz__lEIlpDg"
      },
      "id": "eXz__lEIlpDg"
    },
    {
      "cell_type": "code",
      "source": [
        "plt.title(\"Training/validation Accuracy\")\n",
        "plt.plot(trainingacc,color = 'r' ,label=\"TrainingAcc\")\n",
        "plt.plot(validationacc ,label=\"Validation  Acc\")\n",
        "leg = plt.legend(loc='lower right')\n",
        "plt.xlabel(\"Epochs\")\n",
        "plt.ylabel(\"Accuracy%\")"
      ],
      "metadata": {
        "colab": {
          "base_uri": "https://localhost:8080/",
          "height": 313
        },
        "id": "xrGlzRMmlHFD",
        "outputId": "6b23442e-0595-4614-cf1a-94ffcb9e7fd4"
      },
      "id": "xrGlzRMmlHFD",
      "execution_count": null,
      "outputs": [
        {
          "output_type": "execute_result",
          "data": {
            "text/plain": [
              "Text(0, 0.5, 'Accuracy%')"
            ]
          },
          "metadata": {},
          "execution_count": 63
        },
        {
          "output_type": "display_data",
          "data": {
            "image/png": "[encoded data removed]",
            "text/plain": [
              "<Figure size 432x288 with 1 Axes>"
            ]
          },
          "metadata": {
            "needs_background": "light"
          }
        }
      ]
    }
  ],
  "metadata": {
    "kernelspec": {
      "display_name": "Python 3 (ipykernel)",
      "language": "python",
      "name": "python3"
    },
    "language_info": {
      "codemirror_mode": {
        "name": "ipython",
        "version": 3
      },
      "file_extension": ".py",
      "mimetype": "text/x-python",
      "name": "python",
      "nbconvert_exporter": "python",
      "pygments_lexer": "ipython3",
      "version": "3.8.5"
    },
    "colab": {
      "name": "Problem 1.ipynb",
      "provenance": [],
      "collapsed_sections": []
    }
  },
  "nbformat": 4,
  "nbformat_minor": 5
}